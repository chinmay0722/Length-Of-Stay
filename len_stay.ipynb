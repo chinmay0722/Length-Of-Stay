{
 "cells": [
  {
   "cell_type": "code",
   "execution_count": 1,
   "metadata": {},
   "outputs": [],
   "source": [
    "import pandas as pd\n",
    "import numpy as np\n",
    "import seaborn as sns\n",
    "import matplotlib.pyplot as plt\n",
    "from sklearn.model_selection import train_test_split\n",
    "from sklearn.linear_model import LinearRegression\n",
    "from sklearn.tree import DecisionTreeRegressor\n",
    "from sklearn.preprocessing import LabelEncoder\n",
    "from sklearn.ensemble import RandomForestRegressor, GradientBoostingRegressor\n",
    "from sklearn.neural_network import MLPRegressor\n",
    "from sklearn.metrics import mean_absolute_error, mean_squared_error, r2_score\n",
    "from sklearn import metrics"
   ]
  },
  {
   "cell_type": "code",
   "execution_count": 2,
   "metadata": {},
   "outputs": [
    {
     "name": "stderr",
     "output_type": "stream",
     "text": [
      "C:\\Users\\990672\\AppData\\Local\\Temp\\ipykernel_9268\\2029008494.py:1: DtypeWarning: Columns (10) have mixed types. Specify dtype option on import or set low_memory=False.\n",
      "  data = pd.read_csv(\"Hospital_Inpatient_Discharges__SPARCS_De-Identified___2015.csv\")\n"
     ]
    }
   ],
   "source": [
    "data = pd.read_csv(\"Hospital_Inpatient_Discharges__SPARCS_De-Identified___2015.csv\")"
   ]
  },
  {
   "cell_type": "code",
   "execution_count": 3,
   "metadata": {},
   "outputs": [
    {
     "data": {
      "text/plain": [
       "2346760"
      ]
     },
     "execution_count": 3,
     "metadata": {},
     "output_type": "execute_result"
    }
   ],
   "source": [
    "len(data)"
   ]
  },
  {
   "cell_type": "code",
   "execution_count": 4,
   "metadata": {},
   "outputs": [
    {
     "data": {
      "text/plain": [
       "Health Service Area                     object\n",
       "Hospital County                         object\n",
       "Operating Certificate Number           float64\n",
       "Facility Id                            float64\n",
       "Facility Name                           object\n",
       "Age Group                               object\n",
       "Zip Code - 3 digits                     object\n",
       "Gender                                  object\n",
       "Race                                    object\n",
       "Ethnicity                               object\n",
       "Length of Stay                          object\n",
       "Type of Admission                       object\n",
       "Patient Disposition                     object\n",
       "Discharge Year                           int64\n",
       "CCS Diagnosis Code                       int64\n",
       "CCS Diagnosis Description               object\n",
       "CCS Procedure Code                       int64\n",
       "CCS Procedure Description               object\n",
       "APR DRG Code                             int64\n",
       "APR DRG Description                     object\n",
       "APR MDC Code                             int64\n",
       "APR MDC Description                     object\n",
       "APR Severity of Illness Code             int64\n",
       "APR Severity of Illness Description     object\n",
       "APR Risk of Mortality                   object\n",
       "APR Medical Surgical Description        object\n",
       "Payment Typology 1                      object\n",
       "Payment Typology 2                      object\n",
       "Payment Typology 3                      object\n",
       "Attending Provider License Number      float64\n",
       "Operating Provider License Number      float64\n",
       "Other Provider License Number          float64\n",
       "Birth Weight                             int64\n",
       "Abortion Edit Indicator                 object\n",
       "Emergency Department Indicator          object\n",
       "Total Charges                           object\n",
       "Total Costs                             object\n",
       "dtype: object"
      ]
     },
     "execution_count": 4,
     "metadata": {},
     "output_type": "execute_result"
    }
   ],
   "source": [
    "data.dtypes"
   ]
  },
  {
   "cell_type": "code",
   "execution_count": 5,
   "metadata": {},
   "outputs": [],
   "source": [
    "# For simplicity, let's drop rows with missing values and drop non-essential columns\n",
    "# Drop Unuseful Columns\n",
    "unuseful_columns = ['Health Service Area', 'Hospital County', 'Operating Certificate Number', \n",
    "                    'Facility Name', 'Discharge Year', 'CCS Diagnosis Description', \n",
    "                    'CCS Procedure Description', 'APR DRG Description', 'APR MDC Description', \n",
    "                    'APR Severity of Illness Description', 'APR Medical Surgical Description', \n",
    "                    'Attending Provider License Number', 'Operating Provider License Number', \n",
    "                    'Other Provider License Number','Payment Typology 1','Payment Typology 2','Payment Typology 3',\n",
    "                    'Total Costs']\n",
    "data.drop(columns=unuseful_columns, inplace=True)"
   ]
  },
  {
   "cell_type": "code",
   "execution_count": 6,
   "metadata": {},
   "outputs": [],
   "source": [
    "# For simplicity, let's drop rows with missing values and drop non-essential columns\n",
    "# Drop Unuseful Columns\n",
    "unuseful_columns = ['Zip Code - 3 digits']\n",
    "data.drop(columns=unuseful_columns, inplace=True)"
   ]
  },
  {
   "cell_type": "code",
   "execution_count": 7,
   "metadata": {},
   "outputs": [
    {
     "data": {
      "text/plain": [
       "Facility Id                       float64\n",
       "Age Group                          object\n",
       "Gender                             object\n",
       "Race                               object\n",
       "Ethnicity                          object\n",
       "Length of Stay                     object\n",
       "Type of Admission                  object\n",
       "Patient Disposition                object\n",
       "CCS Diagnosis Code                  int64\n",
       "CCS Procedure Code                  int64\n",
       "APR DRG Code                        int64\n",
       "APR MDC Code                        int64\n",
       "APR Severity of Illness Code        int64\n",
       "APR Risk of Mortality              object\n",
       "Birth Weight                        int64\n",
       "Abortion Edit Indicator            object\n",
       "Emergency Department Indicator     object\n",
       "Total Charges                      object\n",
       "dtype: object"
      ]
     },
     "execution_count": 7,
     "metadata": {},
     "output_type": "execute_result"
    }
   ],
   "source": [
    "data.dtypes"
   ]
  },
  {
   "cell_type": "code",
   "execution_count": 8,
   "metadata": {},
   "outputs": [],
   "source": [
    "data['Total Charges'] = data['Total Charges'].apply(lambda x: str(x).replace('$',''))\n",
    "data['Total Charges'] = pd.to_numeric(data['Total Charges'])"
   ]
  },
  {
   "cell_type": "code",
   "execution_count": 9,
   "metadata": {},
   "outputs": [
    {
     "data": {
      "text/plain": [
       "Facility Id                       2911\n",
       "Age Group                            0\n",
       "Gender                               0\n",
       "Race                                 0\n",
       "Ethnicity                            0\n",
       "Length of Stay                       0\n",
       "Type of Admission                    0\n",
       "Patient Disposition                  0\n",
       "CCS Diagnosis Code                   0\n",
       "CCS Procedure Code                   0\n",
       "APR DRG Code                         0\n",
       "APR MDC Code                         0\n",
       "APR Severity of Illness Code         0\n",
       "APR Risk of Mortality              112\n",
       "Birth Weight                         0\n",
       "Abortion Edit Indicator              0\n",
       "Emergency Department Indicator       0\n",
       "Total Charges                        0\n",
       "dtype: int64"
      ]
     },
     "execution_count": 9,
     "metadata": {},
     "output_type": "execute_result"
    }
   ],
   "source": [
    "data.isnull().sum()"
   ]
  },
  {
   "cell_type": "code",
   "execution_count": 10,
   "metadata": {},
   "outputs": [],
   "source": [
    "# Impute missing values in 'Facility Id' column based on the proportion of occurrence\n",
    "facility_id_counts = data['Facility Id'].value_counts(normalize=True)\n",
    "missing_indices = data['Facility Id'].isnull()\n",
    "data.loc[missing_indices, 'Facility Id'] = np.random.choice(facility_id_counts.index, size=missing_indices.sum(), p=facility_id_counts.values)\n"
   ]
  },
  {
   "cell_type": "code",
   "execution_count": 11,
   "metadata": {},
   "outputs": [],
   "source": [
    "# Impute missing values in 'APR Risk of Mortality' column based on the proportion of occurrence\n",
    "facility_id_counts = data['APR Risk of Mortality'].value_counts(normalize=True)\n",
    "missing_indices = data['APR Risk of Mortality'].isnull()\n",
    "data.loc[missing_indices, 'APR Risk of Mortality'] = np.random.choice(facility_id_counts.index, size=missing_indices.sum(), p=facility_id_counts.values)\n"
   ]
  },
  {
   "cell_type": "code",
   "execution_count": 12,
   "metadata": {},
   "outputs": [
    {
     "data": {
      "text/plain": [
       "Facility Id                       0\n",
       "Age Group                         0\n",
       "Gender                            0\n",
       "Race                              0\n",
       "Ethnicity                         0\n",
       "Length of Stay                    0\n",
       "Type of Admission                 0\n",
       "Patient Disposition               0\n",
       "CCS Diagnosis Code                0\n",
       "CCS Procedure Code                0\n",
       "APR DRG Code                      0\n",
       "APR MDC Code                      0\n",
       "APR Severity of Illness Code      0\n",
       "APR Risk of Mortality             0\n",
       "Birth Weight                      0\n",
       "Abortion Edit Indicator           0\n",
       "Emergency Department Indicator    0\n",
       "Total Charges                     0\n",
       "dtype: int64"
      ]
     },
     "execution_count": 12,
     "metadata": {},
     "output_type": "execute_result"
    }
   ],
   "source": [
    "data.isnull().sum()"
   ]
  },
  {
   "cell_type": "code",
   "execution_count": 13,
   "metadata": {},
   "outputs": [
    {
     "data": {
      "text/plain": [
       "Facility Id                       float64\n",
       "Age Group                          object\n",
       "Gender                             object\n",
       "Race                               object\n",
       "Ethnicity                          object\n",
       "Length of Stay                     object\n",
       "Type of Admission                  object\n",
       "Patient Disposition                object\n",
       "CCS Diagnosis Code                  int64\n",
       "CCS Procedure Code                  int64\n",
       "APR DRG Code                        int64\n",
       "APR MDC Code                        int64\n",
       "APR Severity of Illness Code        int64\n",
       "APR Risk of Mortality              object\n",
       "Birth Weight                        int64\n",
       "Abortion Edit Indicator            object\n",
       "Emergency Department Indicator     object\n",
       "Total Charges                     float64\n",
       "dtype: object"
      ]
     },
     "execution_count": 13,
     "metadata": {},
     "output_type": "execute_result"
    }
   ],
   "source": [
    "data.dtypes"
   ]
  },
  {
   "cell_type": "code",
   "execution_count": 14,
   "metadata": {},
   "outputs": [],
   "source": [
    "# Replace '120+' with a maximum value (e.g., 120)\n",
    "data['Length of Stay'] = data['Length of Stay'].replace('120 +', '120')\n",
    "\n",
    "# Convert 'Length of Stay' column to numeric type\n",
    "data['Length of Stay'] = pd.to_numeric(data['Length of Stay'])\n"
   ]
  },
  {
   "cell_type": "code",
   "execution_count": 15,
   "metadata": {},
   "outputs": [],
   "source": [
    "x= data.drop(columns=['Length of Stay','Race','Ethnicity','Patient Disposition','CCS Procedure Code','Birth Weight','Abortion Edit Indicator','Emergency Department Indicator'])\n",
    "y = data['Length of Stay']\n",
    "\n",
    "# Encode categorical variables if necessary\n",
    "label_encoders = {}\n",
    "for column in x.select_dtypes(include='object').columns:\n",
    "    label_encoders[column] = LabelEncoder()\n",
    "    x[column] = label_encoders[column].fit_transform(x[column])\n",
    "\n",
    "# Split the data into training and testing sets\n",
    "x_train, x_test, y_train, y_test = train_test_split(x, y, test_size=0.2, random_state=42)"
   ]
  },
  {
   "cell_type": "code",
   "execution_count": 16,
   "metadata": {},
   "outputs": [
    {
     "data": {
      "text/plain": [
       "Facility Id                       float64\n",
       "Age Group                          object\n",
       "Gender                             object\n",
       "Race                               object\n",
       "Ethnicity                          object\n",
       "Length of Stay                      int64\n",
       "Type of Admission                  object\n",
       "Patient Disposition                object\n",
       "CCS Diagnosis Code                  int64\n",
       "CCS Procedure Code                  int64\n",
       "APR DRG Code                        int64\n",
       "APR MDC Code                        int64\n",
       "APR Severity of Illness Code        int64\n",
       "APR Risk of Mortality              object\n",
       "Birth Weight                        int64\n",
       "Abortion Edit Indicator            object\n",
       "Emergency Department Indicator     object\n",
       "Total Charges                     float64\n",
       "dtype: object"
      ]
     },
     "execution_count": 16,
     "metadata": {},
     "output_type": "execute_result"
    }
   ],
   "source": [
    "data.dtypes"
   ]
  },
  {
   "cell_type": "code",
   "execution_count": 17,
   "metadata": {},
   "outputs": [],
   "source": [
    "lr_model = LinearRegression()\n",
    "lr_model.fit(x_train, y_train)\n",
    "lr_pred_train = lr_model.predict(x_train)\n",
    "lr_pred_test  = lr_model.predict(x_test)\n",
    "lr_round_pred_train = np.ndarray.round(lr_pred_train)\n",
    "lr_round_pred_test = np.ndarray.round(lr_pred_test)"
   ]
  },
  {
   "cell_type": "code",
   "execution_count": 18,
   "metadata": {},
   "outputs": [],
   "source": [
    "# MAE\n",
    "lr_mae_train = mean_absolute_error(y_train, lr_pred_train)\n",
    "lr_mae_test = mean_absolute_error(y_test, lr_pred_test)\n",
    "# MSE\n",
    "lr_mse_train = mean_squared_error(y_train, lr_pred_train)\n",
    "lr_mse_test = mean_squared_error(y_test, lr_pred_test)\n",
    "# R square\n",
    "lr_r2_train = r2_score(y_train, lr_pred_train)\n",
    "lr_r2_test = r2_score(y_test, lr_pred_test)\n",
    "# Accuracy\n",
    "lr_accuracy_train= metrics.accuracy_score(y_train,lr_round_pred_train)\n",
    "lr_accuracy_test= metrics.accuracy_score(y_test,lr_round_pred_test)"
   ]
  },
  {
   "cell_type": "code",
   "execution_count": 19,
   "metadata": {},
   "outputs": [
    {
     "name": "stdout",
     "output_type": "stream",
     "text": [
      "Train MAE: 2.5555343835604196\n",
      "Test MAE: 2.558588331252548\n",
      "Train MSE: 28.36962663103303\n",
      "Test MSE: 28.821831666924062\n",
      "Train R-squared: 0.559296216459956\n",
      "Test R-squared: 0.5573833569332336\n",
      "Train accuracy: 21.342776849784386\n",
      "Test accuracy: 21.28658235183828\n"
     ]
    }
   ],
   "source": [
    "print(\"Train MAE:\", lr_mae_train)\n",
    "print(\"Test MAE:\", lr_mae_test)\n",
    "print(\"Train MSE:\", lr_mse_train)\n",
    "print(\"Test MSE:\", lr_mse_test)\n",
    "print(\"Train R-squared:\", lr_r2_train)\n",
    "print(\"Test R-squared:\", lr_r2_test)\n",
    "print(\"Train accuracy:\", lr_accuracy_train*100)\n",
    "print(\"Test accuracy:\", lr_accuracy_test*100)"
   ]
  },
  {
   "cell_type": "code",
   "execution_count": 20,
   "metadata": {},
   "outputs": [
    {
     "name": "stdout",
     "output_type": "stream",
     "text": [
      "R2Score :  0.5573833569332336\n"
     ]
    }
   ],
   "source": [
    "\n",
    "#R2Score\n",
    "r2=r2_score(y_test,lr_pred_test)\n",
    "print(\"R2Score : \",r2)"
   ]
  },
  {
   "cell_type": "code",
   "execution_count": 38,
   "metadata": {},
   "outputs": [],
   "source": [
    "rf_model = RandomForestRegressor(random_state=42)\n",
    "rf_model.fit(x_train, y_train)\n",
    "rf_pred_train = rf_model.predict(x_train)\n",
    "rf_pred_test = rf_model.predict(x_test)"
   ]
  },
  {
   "cell_type": "code",
   "execution_count": 39,
   "metadata": {},
   "outputs": [],
   "source": [
    "rf_round_pred_train = np.ndarray.round(rf_pred_train)\n",
    "rf_round_pred_test = np.ndarray.round(rf_pred_test)"
   ]
  },
  {
   "cell_type": "code",
   "execution_count": 40,
   "metadata": {},
   "outputs": [],
   "source": [
    "# MAE\n",
    "rf_mae_train = mean_absolute_error(y_train, rf_pred_train)\n",
    "rf_mae_test = mean_absolute_error(y_test, rf_pred_test)\n",
    "# MSE\n",
    "rf_mse_train = mean_squared_error(y_train, rf_pred_train)\n",
    "rf_mse_test = mean_squared_error(y_test, rf_pred_test)\n",
    "# R square\n",
    "rf_r2_train = r2_score(y_train, rf_pred_train)\n",
    "rf_r2_test = r2_score(y_test, rf_pred_test)\n",
    "# Accuracy\n",
    "rf_accuracy_train= metrics.accuracy_score(y_train,rf_round_pred_train)\n",
    "rf_accuracy_test= metrics.accuracy_score(y_test,rf_round_pred_test)"
   ]
  },
  {
   "cell_type": "code",
   "execution_count": 41,
   "metadata": {},
   "outputs": [
    {
     "name": "stdout",
     "output_type": "stream",
     "text": [
      "Train MAE: 0.42712005658531144\n",
      "Test MAE: 1.1520514342514805\n",
      "Train MSE: 1.0840954081263576\n",
      "Test MSE: 7.947786024955103\n",
      "Train R-squared: 0.9831592796657727\n",
      "Test R-squared: 0.8779459122920477\n",
      "Train accuracy: 76.88184986960745\n",
      "Test accuracy: 49.82635633810019\n"
     ]
    }
   ],
   "source": [
    "print(\"Train MAE:\", rf_mae_train)\n",
    "print(\"Test MAE:\", rf_mae_test)\n",
    "print(\"Train MSE:\", rf_mse_train)\n",
    "print(\"Test MSE:\", rf_mse_test)\n",
    "print(\"Train R-squared:\", rf_r2_train)\n",
    "print(\"Test R-squared:\", rf_r2_test)\n",
    "print(\"Train accuracy:\", rf_accuracy_train*100)\n",
    "print(\"Test accuracy:\", rf_accuracy_test*100)"
   ]
  },
  {
   "cell_type": "code",
   "execution_count": 61,
   "metadata": {},
   "outputs": [
    {
     "name": "stderr",
     "output_type": "stream",
     "text": [
      "c:\\Users\\990672\\AppData\\Local\\Programs\\Python\\Python312\\Lib\\site-packages\\sklearn\\linear_model\\_logistic.py:469: ConvergenceWarning: lbfgs failed to converge (status=1):\n",
      "STOP: TOTAL NO. of ITERATIONS REACHED LIMIT.\n",
      "\n",
      "Increase the number of iterations (max_iter) or scale the data as shown in:\n",
      "    https://scikit-learn.org/stable/modules/preprocessing.html\n",
      "Please also refer to the documentation for alternative solver options:\n",
      "    https://scikit-learn.org/stable/modules/linear_model.html#logistic-regression\n",
      "  n_iter_i = _check_optimize_result(\n"
     ]
    },
    {
     "name": "stdout",
     "output_type": "stream",
     "text": [
      "Test accuracy: 0.24846383950638326\n",
      "Train accuracy: 0.2492074178867886\n"
     ]
    }
   ],
   "source": [
    "from sklearn.linear_model import LogisticRegression\n",
    "from sklearn.metrics import accuracy_score\n",
    "import numpy as np\n",
    "log_reg = LogisticRegression(multi_class='ovr').fit(x_train, y_train)\n",
    "y_train_pred = log_reg.predict(x_train)\n",
    "y_pred = log_reg.predict(x_test)\n",
    "\n",
    "test_acc = accuracy_score(y_test, y_pred)\n",
    "train_acc = accuracy_score(y_train, y_train_pred)\n",
    "\n",
    "print('Test accuracy:', test_acc)\n",
    "print('Train accuracy:', train_acc)"
   ]
  },
  {
   "cell_type": "code",
   "execution_count": 21,
   "metadata": {},
   "outputs": [
    {
     "data": {
      "text/plain": [
       "['lr.pkl']"
      ]
     },
     "execution_count": 21,
     "metadata": {},
     "output_type": "execute_result"
    }
   ],
   "source": [
    "import joblib\n",
    "joblib.dump(lr_model,'lr.pkl')"
   ]
  },
  {
   "cell_type": "code",
   "execution_count": 56,
   "metadata": {},
   "outputs": [
    {
     "data": {
      "text/plain": [
       "['rf.pkl']"
      ]
     },
     "execution_count": 56,
     "metadata": {},
     "output_type": "execute_result"
    }
   ],
   "source": []
  },
  {
   "cell_type": "code",
   "execution_count": 49,
   "metadata": {},
   "outputs": [
    {
     "name": "stdout",
     "output_type": "stream",
     "text": [
      "['0 to 17', '18 to 29', '30 to 49', '50 to 69', '70 or Older']\n"
     ]
    }
   ],
   "source": [
    "unique_values = data['Age Group'].unique()\n",
    "\n",
    "# Sort the unique values\n",
    "sorted_unique_values = sorted(unique_values)\n",
    "\n",
    "# Print the sorted unique values\n",
    "print(sorted_unique_values)"
   ]
  },
  {
   "cell_type": "code",
   "execution_count": 50,
   "metadata": {},
   "outputs": [
    {
     "name": "stdout",
     "output_type": "stream",
     "text": [
      "['F', 'M', 'U']\n"
     ]
    }
   ],
   "source": [
    "unique_values = data['Gender'].unique()\n",
    "\n",
    "# Sort the unique values\n",
    "sorted_unique_values = sorted(unique_values)\n",
    "\n",
    "# Print the sorted unique values\n",
    "print(sorted_unique_values)"
   ]
  },
  {
   "cell_type": "code",
   "execution_count": 51,
   "metadata": {},
   "outputs": [
    {
     "name": "stdout",
     "output_type": "stream",
     "text": [
      "['Elective', 'Emergency', 'Newborn', 'Not Available', 'Trauma', 'Urgent']\n"
     ]
    }
   ],
   "source": [
    "unique_values = data['Type of Admission'].unique()\n",
    "\n",
    "# Sort the unique values\n",
    "sorted_unique_values = sorted(unique_values)\n",
    "\n",
    "# Print the sorted unique values\n",
    "print(sorted_unique_values)"
   ]
  },
  {
   "cell_type": "code",
   "execution_count": 55,
   "metadata": {},
   "outputs": [
    {
     "data": {
      "text/plain": [
       "['Extreme', 'Major', 'Minor', 'Moderate']"
      ]
     },
     "execution_count": 55,
     "metadata": {},
     "output_type": "execute_result"
    }
   ],
   "source": [
    "illness_string_index={'Minor':1,'Moderate':2,'Major':3,'Extreme':4}\n",
    "sorted(illness_string_index)"
   ]
  },
  {
   "cell_type": "code",
   "execution_count": null,
   "metadata": {},
   "outputs": [],
   "source": []
  },
  {
   "cell_type": "code",
   "execution_count": null,
   "metadata": {},
   "outputs": [],
   "source": []
  }
 ],
 "metadata": {
  "kernelspec": {
   "display_name": "Python 3",
   "language": "python",
   "name": "python3"
  },
  "language_info": {
   "codemirror_mode": {
    "name": "ipython",
    "version": 3
   },
   "file_extension": ".py",
   "mimetype": "text/x-python",
   "name": "python",
   "nbconvert_exporter": "python",
   "pygments_lexer": "ipython3",
   "version": "3.12.2"
  }
 },
 "nbformat": 4,
 "nbformat_minor": 2
}
